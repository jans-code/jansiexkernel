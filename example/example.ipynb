{
 "cells": [
  {
   "cell_type": "markdown",
   "id": "07d0dea6-1c9d-455c-8ad0-17e30006f5df",
   "metadata": {},
   "source": [
    "# Mixing in your Jupyter Notebook"
   ]
  },
  {
   "cell_type": "code",
   "execution_count": 1,
   "id": "618e5d39-1836-4d33-9c58-2dec2cbdc354",
   "metadata": {
    "tags": []
   },
   "outputs": [
    {
     "name": "stdout",
     "output_type": "stream",
     "text": [
      " \u001b[33m\u001b[36mIO\u001b[0m\u001b[33m\u001b[0m\n"
     ]
    }
   ],
   "source": [
    "import IO"
   ]
  },
  {
   "cell_type": "code",
   "execution_count": 2,
   "id": "65cf9677-8f77-4cc6-977f-53f101fe176a",
   "metadata": {
    "tags": []
   },
   "outputs": [
    {
     "name": "stdout",
     "output_type": "stream",
     "text": [
      " Hello World!\n",
      "\u001b[33m\u001b[36m:ok\u001b[0m\u001b[33m\u001b[0m\n"
     ]
    }
   ],
   "source": [
    "IO.puts(\"Hello World!\")"
   ]
  }
 ],
 "metadata": {
  "kernelspec": {
   "display_name": "Elixir",
   "language": "",
   "name": "jansiexkernel"
  },
  "language_info": {
   "file_extension": ".ex",
   "mimetype": "application/elixir",
   "name": "iex"
  }
 },
 "nbformat": 4,
 "nbformat_minor": 5
}
